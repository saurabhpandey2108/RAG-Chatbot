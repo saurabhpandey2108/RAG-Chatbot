{
 "cells": [
  {
   "cell_type": "markdown",
   "id": "91c099f2",
   "metadata": {},
   "source": [
    "\n",
    "Retrievers\n",
    "\n",
    "\n",
    "Now that we understand the indexing pipeline, we can utilize our vector database to retrieve relevant documents for a given query.\n",
    "\n",
    "LangChain provides a uniform interface for interacting with different types of retrieval systems. The LangChain retriever interface is straightforward:\n",
    "\n",
    "Input: A query (string) Output: A list of documents (standardized LangChain Document objects)"
   ]
  },
  {
   "cell_type": "markdown",
   "id": "96bf9a1f",
   "metadata": {},
   "source": [
    "https://python.langchain.com/docs/concepts/retrievers/"
   ]
  },
  {
   "cell_type": "code",
   "execution_count": 1,
   "id": "36e758a5",
   "metadata": {},
   "outputs": [
    {
     "name": "stdout",
     "output_type": "stream",
     "text": [
      "Note: you may need to restart the kernel to use updated packages.\n"
     ]
    }
   ],
   "source": [
    "pip install -qU langchain langchain_community wikipedia"
   ]
  },
  {
   "cell_type": "code",
   "execution_count": 2,
   "id": "e70b7e73",
   "metadata": {},
   "outputs": [
    {
     "data": {
      "text/plain": [
       "\"India, officially the Republic of India, is a country in South Asia.  It is the seventh-largest country by area; the most populous country since 2023; and, since its independence in 1947, the world's \""
      ]
     },
     "execution_count": 2,
     "metadata": {},
     "output_type": "execute_result"
    }
   ],
   "source": [
    "# Wikipedia Retriever\n",
    "from langchain_community.retrievers import WikipediaRetriever\n",
    "\n",
    "retriever = WikipediaRetriever()\n",
    "docs = retriever.invoke(\"India\")\n",
    "\n",
    "docs[0].page_content[:200]"
   ]
  },
  {
   "cell_type": "code",
   "execution_count": 3,
   "id": "22429cf3",
   "metadata": {},
   "outputs": [
    {
     "name": "stderr",
     "output_type": "stream",
     "text": [
      "USER_AGENT environment variable not set, consider setting it to identify your requests.\n"
     ]
    }
   ],
   "source": [
    "from langchain_community.document_loaders import WebBaseLoader\n",
    "from langchain_text_splitters import RecursiveCharacterTextSplitter\n",
    "from langchain_huggingface import HuggingFaceEmbeddings\n",
    "from langchain_community.vectorstores import InMemoryVectorStore\n",
    "\n",
    "loader = WebBaseLoader(\"https://www.govinfo.gov/content/pkg/CDOC-110hdoc50/html/CDOC-110hdoc50.htm\")\n",
    "documents = loader.load()\n",
    "\n",
    "text_splitter = RecursiveCharacterTextSplitter(chunk_size=1000, chunk_overlap=200, separators=[\"\\n\\n\", \"\\n\", \" \", \"\"])\n",
    "chunks = text_splitter.split_documents(documents)\n",
    "embeddings = HuggingFaceEmbeddings(model_name=\"sentence-transformers/all-MiniLM-L6-v2\")\n",
    "vectorstore = InMemoryVectorStore.from_documents(chunks, embeddings)"
   ]
  },
  {
   "cell_type": "code",
   "execution_count": 4,
   "id": "7c3e741d",
   "metadata": {},
   "outputs": [
    {
     "name": "stdout",
     "output_type": "stream",
     "text": [
      "Qualification for office. No religious              6    .......       3\n",
      " test shall ever be required as a.........\n",
      "Qualifications of electors of members of            1          2       1\n",
      " the House of Representatives shall be the\n",
      " same as electors for the most numerous\n",
      " branch of the State legislature..........\n",
      "Qualifications of electors of Senators             17          1  ......\n",
      " shall be the same as electors of the most\n",
      " numerous branch of the State legislature.\n",
      " [Amendments].............\n",
      "----------------------------------------------------------------------------------------------------\n",
      "\n",
      "Article [XVII.]\n",
      "\n",
      "    The Senate of the United States shall be composed of two \n",
      "Senators from each State, elected by the people thereof, for \n",
      "six years; and each Senator shall have one vote. The electors \n",
      "in each State shall have the qualifications requisite for \n",
      "electors of the most numerous branch of the State legislatures.\n",
      "    When vacancies happen in the representation of any State in \n",
      "the Senate, the executive authority of such State shall issue \n",
      "writs of election to fill such vacancies: Pro\n",
      "----------------------------------------------------------------------------------------------------\n",
      "\n"
     ]
    }
   ],
   "source": [
    "# Using a Vector store as a retriever\n",
    "retriever = vectorstore.as_retriever(search_kwargs={\"k\": 2})  # Get top 2 results\n",
    "docs = retriever.invoke(\"How long can senators serve?\") # Ask a question from the constitution\n",
    "\n",
    "def print_docs(docs):\n",
    "    for doc in docs:\n",
    "        print(doc.page_content[:500])\n",
    "        print(\"-\"*100+\"\\n\")\n",
    "\n",
    "print_docs(docs)"
   ]
  },
  {
   "cell_type": "code",
   "execution_count": null,
   "id": "8065c726",
   "metadata": {},
   "outputs": [],
   "source": []
  }
 ],
 "metadata": {
  "kernelspec": {
   "display_name": "rvenv",
   "language": "python",
   "name": "python3"
  },
  "language_info": {
   "codemirror_mode": {
    "name": "ipython",
    "version": 3
   },
   "file_extension": ".py",
   "mimetype": "text/x-python",
   "name": "python",
   "nbconvert_exporter": "python",
   "pygments_lexer": "ipython3",
   "version": "3.12.8"
  }
 },
 "nbformat": 4,
 "nbformat_minor": 5
}
