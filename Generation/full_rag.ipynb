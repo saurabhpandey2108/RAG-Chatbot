{
 "cells": [
  {
   "cell_type": "markdown",
   "id": "971ffc19",
   "metadata": {},
   "source": [
    "Now that we understand the indexing pipeline, we can\n",
    "utilize our vector database to retrieve relevant documents\n",
    "for a given query and use them to generate a response."
   ]
  },
  {
   "cell_type": "code",
   "execution_count": 1,
   "id": "0659d261",
   "metadata": {},
   "outputs": [],
   "source": [
    "\n",
    "# load the environment variables\n",
    "from dotenv import load_dotenv\n",
    "import os\n",
    "\n",
    "# loads the .env file (if you have a global environment variable, you can skip this)\n",
    "load_dotenv()\n",
    "\n",
    "# lets just validate that we have the environment variable\n",
    "api_key = os.environ.get(\"OPENAI_API_KEY\")\n",
    "\n",
    "if not api_key:\n",
    "    raise ValueError(\"OPENAI_API_KEY is not set in the environment variables\")"
   ]
  },
  {
   "cell_type": "code",
   "execution_count": 2,
   "id": "68af8f2c",
   "metadata": {},
   "outputs": [
    {
     "name": "stderr",
     "output_type": "stream",
     "text": [
      "USER_AGENT environment variable not set, consider setting it to identify your requests.\n"
     ]
    }
   ],
   "source": [
    "from langchain_community.document_loaders import WebBaseLoader\n",
    "from langchain_text_splitters import RecursiveCharacterTextSplitter\n",
    "from langchain_huggingface import HuggingFaceEmbeddings\n",
    "from langchain_community.vectorstores import InMemoryVectorStore\n",
    "\n",
    "loader = WebBaseLoader(\"https://www.govinfo.gov/content/pkg/CDOC-110hdoc50/html/CDOC-110hdoc50.htm\")\n",
    "documents = loader.load()\n",
    "\n",
    "text_splitter = RecursiveCharacterTextSplitter(chunk_size=1000, chunk_overlap=200, separators=[\"\\n\\n\", \"\\n\", \" \", \"\"])\n",
    "chunks = text_splitter.split_documents(documents)\n",
    "embeddings = HuggingFaceEmbeddings(model_name=\"sentence-transformers/all-MiniLM-L6-v2\")\n",
    "vectorstore = InMemoryVectorStore.from_documents(chunks, embeddings)\n",
    "\n",
    "retriever = vectorstore.as_retriever()"
   ]
  },
  {
   "cell_type": "code",
   "execution_count": 3,
   "id": "dde5205a",
   "metadata": {},
   "outputs": [],
   "source": [
    "\n",
    "# setup the chat model and prompt template\n",
    "from langchain_openai import ChatOpenAI\n",
    "from langchain_core.prompts import ChatPromptTemplate\n",
    "\n",
    "llm = ChatOpenAI(model_name=\"gpt-4o\")\n",
    "\n",
    "prompt = ChatPromptTemplate.from_messages([\n",
    "    (\"system\", \"You are a helpful assistant that can answer questions about the US Constitution. Use the provided context to answer the question. IMPORTANT: If you are unsure of the answer, say 'I don't know' and don't make up an answer.\"),\n",
    "    (\"user\", \"Question: {question}\\nContext: {context}\")\n",
    "])\n",
    "\n",
    "chain = prompt | llm"
   ]
  },
  {
   "cell_type": "code",
   "execution_count": 4,
   "id": "13dc7046",
   "metadata": {},
   "outputs": [
    {
     "name": "stdout",
     "output_type": "stream",
     "text": [
      "I don't know.\n"
     ]
    }
   ],
   "source": [
    "\n",
    "query = \"Is there any plans to change the US Constitution to allow for term limits on senators?\"\n",
    "\n",
    "# RETRIEVAL\n",
    "docs = retriever.invoke(query)\n",
    "docs_content = \"\\n\\n\".join(doc.page_content for doc in docs)\n",
    "\n",
    "# AUGMENTED + GENERATION\n",
    "response = chain.invoke({\"question\": query, \"context\": docs})\n",
    "\n",
    "print(response.content)"
   ]
  },
  {
   "cell_type": "code",
   "execution_count": 5,
   "id": "d9db4dae",
   "metadata": {},
   "outputs": [
    {
     "name": "stdout",
     "output_type": "stream",
     "text": [
      "The U.S. Constitution originally consists of seven articles.\n",
      "The Constitution states that the President may grant reprieves and pardons for offenses against the United States, except in cases of impeachment. This is found in Article II, Section 2, Clause 1 of the Constitution.\n"
     ]
    }
   ],
   "source": [
    "while True:\n",
    "    query = input(\"Enter a question: \")\n",
    "    if query == \"exit\":\n",
    "        break\n",
    "    docs = retriever.invoke(query)\n",
    "    response = chain.invoke({\"question\": query, \"context\": docs})\n",
    "    print(response.content)"
   ]
  },
  {
   "cell_type": "code",
   "execution_count": null,
   "id": "5af54354",
   "metadata": {},
   "outputs": [],
   "source": []
  }
 ],
 "metadata": {
  "kernelspec": {
   "display_name": "rvenv",
   "language": "python",
   "name": "python3"
  },
  "language_info": {
   "codemirror_mode": {
    "name": "ipython",
    "version": 3
   },
   "file_extension": ".py",
   "mimetype": "text/x-python",
   "name": "python",
   "nbconvert_exporter": "python",
   "pygments_lexer": "ipython3",
   "version": "3.12.8"
  }
 },
 "nbformat": 4,
 "nbformat_minor": 5
}
